{
 "cells": [
  {
   "cell_type": "code",
   "execution_count": null,
   "metadata": {},
   "outputs": [],
   "source": [
    "ask_name = \"What's your name?\"\n",
    "ask_age = \"How old are you?\"\n",
    "hi = \"Hi, \" + input(prompt= ask_name) + \"! \"\n",
    "age = \"You are \" + str(input(prompt= ask_age)) + \" years old.\"\n",
    "print(hi + age)\n",
    "try:\n",
    "    n = float(input(hi + \" you may enter your test grade and I will convert it into letter grade.\"))\n",
    "    if(n >= 94 and n <= 100):\n",
    "        print(\"Your grade is an A\")\n",
    "    elif(n >= 85 and n <= 93):\n",
    "        print(\"Your grade is a B\")\n",
    "    elif(n >= 74 and n <= 84):\n",
    "        print(\"Your grade is a C\")\n",
    "    elif(n >= 63 and n <= 73):\n",
    "        print(\"Your grade is a D\")\n",
    "    elif(n <= 62):\n",
    "        print(\"Your grade is an F\")\n",
    "except Exception:\n",
    "    print(\"Entered a not valid number\")"
   ]
  }
 ],
 "metadata": {
  "language_info": {
   "name": "python"
  },
  "orig_nbformat": 4
 },
 "nbformat": 4,
 "nbformat_minor": 2
}
